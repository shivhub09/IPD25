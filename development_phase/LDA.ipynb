{
 "cells": [
  {
   "cell_type": "code",
   "execution_count": 5,
   "metadata": {},
   "outputs": [
    {
     "name": "stderr",
     "output_type": "stream",
     "text": [
      "[nltk_data] Downloading package stopwords to\n",
      "[nltk_data]     C:\\Users\\Shivam\\AppData\\Roaming\\nltk_data...\n",
      "[nltk_data]   Package stopwords is already up-to-date!\n"
     ]
    },
    {
     "data": {
      "text/plain": [
       "[(0,\n",
       "  '0.046*\"agreement\" + 0.046*\"epa\" + 0.024*\"follows\" + 0.024*\"utility\" + 0.024*\"apportioned\" + 0.024*\"bills\" + 0.024*\"payable\" + 0.024*\"lh\" + 0.024*\"day\" + 0.024*\"length\"'),\n",
       " (1,\n",
       "  '0.066*\"tenant\" + 0.053*\"monthly\" + 0.053*\"bill\" + 0.053*\"pays\" + 0.027*\"household\" + 0.027*\"decision\" + 0.027*\"copy\" + 0.027*\"pdf\" + 0.014*\"party\" + 0.014*\"long\"'),\n",
       " (2,\n",
       "  '0.029*\"tenant\" + 0.029*\"deposit\" + 0.029*\"deductions\" + 0.029*\"made\" + 0.015*\"cleaning\" + 0.015*\"security\" + 0.015*\"rent\" + 0.015*\"provide\" + 0.015*\"expenses\" + 0.015*\"receipts\"'),\n",
       " (3,\n",
       "  '0.089*\"tenant\" + 0.031*\"shall\" + 0.031*\"landlord\" + 0.031*\"rental\" + 0.016*\"law\" + 0.016*\"copy\" + 0.016*\"cleaning\" + 0.016*\"moves\" + 0.016*\"inform\" + 0.016*\"needed\"'),\n",
       " (4,\n",
       "  '0.046*\"may\" + 0.035*\"notice\" + 0.024*\"enter\" + 0.024*\"days\" + 0.024*\"agreement\" + 0.024*\"written\" + 0.024*\"rent\" + 0.023*\"tenant\" + 0.023*\"normal\" + 0.012*\"must\"'),\n",
       " (5,\n",
       "  '0.059*\"tenant\" + 0.036*\"landlord\" + 0.024*\"home\" + 0.024*\"die\" + 0.013*\"pamphlet\" + 0.013*\"clarifying\" + 0.013*\"intended\" + 0.013*\"responsibilities\" + 0.013*\"landlords\" + 0.013*\"promote\"'),\n",
       " (6,\n",
       "  '0.022*\"deposit\" + 0.022*\"security\" + 0.022*\"shall\" + 0.022*\"housemates\" + 0.022*\"deduction\" + 0.022*\"repairs\" + 0.022*\"make\" + 0.022*\"inspection\" + 0.022*\"expense\" + 0.022*\"move\"'),\n",
       " (7,\n",
       "  '0.037*\"landlord\" + 0.037*\"http\" + 0.019*\"homes\" + 0.019*\"built\" + 0.019*\"either\" + 0.019*\"accounting\" + 0.019*\"reasonableness\" + 0.019*\"homeowner\" + 0.019*\"term\" + 0.019*\"deducted\"'),\n",
       " (8,\n",
       "  '0.051*\"paint\" + 0.035*\"disclosure\" + 0.018*\"available\" + 0.018*\"code\" + 0.018*\"department\" + 0.018*\"www\" + 0.018*\"penal\" + 0.018*\"via\" + 0.018*\"offenders\" + 0.018*\"web\"'),\n",
       " (9,\n",
       "  '0.019*\"tenant\" + 0.019*\"necessary\" + 0.019*\"resides\" + 0.019*\"offender\" + 0.019*\"following\" + 0.019*\"b\" + 0.010*\"premises\" + 0.010*\"law\" + 0.010*\"pursuant\" + 0.010*\"required\"')]"
      ]
     },
     "execution_count": 5,
     "metadata": {},
     "output_type": "execute_result"
    }
   ],
   "source": [
    "import os\n",
    "from docx import Document\n",
    "from sklearn.feature_extraction.text import TfidfVectorizer\n",
    "from gensim import corpora, models\n",
    "from nltk.corpus import stopwords\n",
    "from nltk.tokenize import word_tokenize\n",
    "\n",
    "# Download stopwords if not already downloaded\n",
    "import nltk\n",
    "nltk.download('stopwords')\n",
    "\n",
    "stop_words = set(stopwords.words('english'))\n",
    "\n",
    "# Function to preprocess text\n",
    "def preprocess_text(text):\n",
    "    tokens = word_tokenize(text.lower())\n",
    "    tokens = [word for word in tokens if word.isalpha() and word not in stop_words]\n",
    "    return tokens\n",
    "\n",
    "# Function to process a .docx file\n",
    "def process_docx(file_path):\n",
    "    doc = Document(file_path)\n",
    "    sentences = []\n",
    "\n",
    "    for paragraph in doc.paragraphs:\n",
    "        sentences.extend(paragraph.text.split('.'))\n",
    "    \n",
    "    preprocessed_sentences = [preprocess_text(sentence) for sentence in sentences if sentence]\n",
    "\n",
    "    return preprocessed_sentences\n",
    "\n",
    "# Path to the .docx file\n",
    "docx_file_path = \"datasets/116950326-December-2012-Rental-Agreement.pdf - Copy.docx\"\n",
    "\n",
    "# Process the .docx file\n",
    "preprocessed_corpus = process_docx(docx_file_path)\n",
    "\n",
    "# Create a dictionary representation of the documents\n",
    "dictionary = corpora.Dictionary(preprocessed_corpus)\n",
    "\n",
    "# Create a document-term matrix\n",
    "corpus = [dictionary.doc2bow(doc) for doc in preprocessed_corpus]\n",
    "\n",
    "# Build the LDA model\n",
    "lda_model = models.LdaModel(corpus, num_topics=10, id2word=dictionary, passes=10)\n",
    "\n",
    "# Print the topics\n",
    "(lda_model.print_topics())\n"
   ]
  },
  {
   "cell_type": "code",
   "execution_count": null,
   "metadata": {},
   "outputs": [],
   "source": []
  }
 ],
 "metadata": {
  "kernelspec": {
   "display_name": "base",
   "language": "python",
   "name": "python3"
  },
  "language_info": {
   "codemirror_mode": {
    "name": "ipython",
    "version": 3
   },
   "file_extension": ".py",
   "mimetype": "text/x-python",
   "name": "python",
   "nbconvert_exporter": "python",
   "pygments_lexer": "ipython3",
   "version": "3.11.3"
  }
 },
 "nbformat": 4,
 "nbformat_minor": 2
}
