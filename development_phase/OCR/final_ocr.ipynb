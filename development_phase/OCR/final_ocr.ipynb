{
 "cells": [
  {
   "cell_type": "code",
   "execution_count": 2,
   "metadata": {},
   "outputs": [],
   "source": [
    "from PIL import Image\n",
    "import cv2\n",
    "import numpy as np\n",
    "import pytesseract\n",
    "import spacy\n",
    "from matplotlib import pyplot as plt\n",
    "import docx"
   ]
  },
  {
   "cell_type": "code",
   "execution_count": 3,
   "metadata": {},
   "outputs": [],
   "source": [
    "def grayscale(image):\n",
    "    return cv2.cvtColor(image, cv2.COLOR_BGR2GRAY)"
   ]
  },
  {
   "cell_type": "code",
   "execution_count": 4,
   "metadata": {},
   "outputs": [],
   "source": [
    "def noise_removal(image):\n",
    "    kernel = np.ones((1,1), np.uint8)\n",
    "    image = cv2.dilate(image , kernel, iterations=1)\n",
    "    kernel = np.ones((1,1), np.uint8)\n",
    "    image = cv2.erode(image,kernel,iterations=1)\n",
    "    image = cv2.morphologyEx(image , cv2.MORPH_CLOSE, kernel)\n",
    "    image = cv2.medianBlur(image , 3)\n",
    "    return (image)"
   ]
  },
  {
   "cell_type": "code",
   "execution_count": 5,
   "metadata": {},
   "outputs": [],
   "source": [
    "def remove_borders(image):\n",
    "    contours, heirarchy = cv2.findContours(image , cv2.RETR_EXTERNAL , cv2.CHAIN_APPROX_SIMPLE)\n",
    "    cntSorted = sorted(contours, key=lambda x:cv2.contourArea(x))\n",
    "    cnt = cntSorted[-1]\n",
    "\n",
    "    x,y,w,h = cv2.boundingRect(cnt)\n",
    "    crop = image[y:y+h,x:x+w]\n",
    "    return crop"
   ]
  },
  {
   "cell_type": "code",
   "execution_count": 6,
   "metadata": {},
   "outputs": [],
   "source": [
    "def thin_font(image):\n",
    "    image = cv2.bitwise_not(image)\n",
    "    kernel = np.ones((2,2), np.uint8)\n",
    "    image = cv2.erode(image , kernel, iterations=1)\n",
    "    image = cv2.bitwise_not(image)\n",
    "    return image"
   ]
  },
  {
   "cell_type": "code",
   "execution_count": 7,
   "metadata": {},
   "outputs": [],
   "source": [
    "def thick_font(image):\n",
    "    image = cv2.bitwise_not(image)\n",
    "    kernel = np.ones((2,2), np.uint8)\n",
    "    image = cv2.dilate(image , kernel, iterations=1)\n",
    "    image = cv2.bitwise_not(image)\n",
    "    return image"
   ]
  },
  {
   "cell_type": "code",
   "execution_count": 8,
   "metadata": {},
   "outputs": [],
   "source": [
    "color = [255,255,255]\n",
    "top , bottom , left , right = [150]*4\n"
   ]
  },
  {
   "cell_type": "code",
   "execution_count": 9,
   "metadata": {},
   "outputs": [],
   "source": [
    "def preprocess_image(im_file):\n",
    "    img = cv2.imread(im_file)\n",
    "    gray_image= grayscale(img)\n",
    "    thresh , im_bw = cv2.threshold(gray_image , 210 , 230, cv2.THRESH_BINARY)\n",
    "    no_noise = noise_removal(im_bw)\n",
    "    # thin = thin_font(no_noise)\n",
    "    # no_borders = remove_borders(no_noise)\n",
    "    # image_with_border = cv2.copyMakeBorder(no_borders, top, bottom , left , right, cv2.BORDER_CONSTANT , value=color)\n",
    "    return no_noise\n",
    "\n"
   ]
  },
  {
   "cell_type": "code",
   "execution_count": 10,
   "metadata": {},
   "outputs": [],
   "source": [
    "#displaying-different-images-with-actual-size-in-matplotlib-subplot\n",
    "def display(im_path):\n",
    "    dpi = 80\n",
    "    im_data = plt.imread(im_path)\n",
    "\n",
    "    height, width  = im_data.shape[:2]\n",
    "    \n",
    "    # What size does the figure need to be in inches to fit the image?\n",
    "    figsize = width / float(dpi), height / float(dpi)\n",
    "\n",
    "    # Create a figure of the right size with one axes that takes up the full figure\n",
    "    fig = plt.figure(figsize=figsize)\n",
    "    ax = fig.add_axes([0, 0, 1, 1])\n",
    "\n",
    "    # Hide spines, ticks, etc.\n",
    "    ax.axis('off')\n",
    "\n",
    "    # Display the image.\n",
    "    ax.imshow(im_data, cmap='gray')\n",
    "\n",
    "    plt.show()\n",
    "    "
   ]
  },
  {
   "cell_type": "code",
   "execution_count": 11,
   "metadata": {},
   "outputs": [],
   "source": [
    "def ocr_image(image_path):\n",
    "    final_image = preprocess_image(\"temp/Agreement AshokAvenue C 001-06.png\")\n",
    "    cv2.imwrite(\"output/final_test.jpg\", final_image)\n",
    "    extracted_text = pytesseract.image_to_string(\"output/final_test.jpg\")\n",
    "    return final_image ,extracted_text"
   ]
  },
  {
   "cell_type": "code",
   "execution_count": 12,
   "metadata": {},
   "outputs": [],
   "source": [
    "image , output = ocr_image(\"temp/Agreement AshokAvenue C 001-06.png\")"
   ]
  },
  {
   "cell_type": "code",
   "execution_count": 13,
   "metadata": {},
   "outputs": [],
   "source": [
    "cv2.imshow('Image', image)\n",
    "cv2.waitKey(0)\n",
    "cv2.destroyAllWindows()"
   ]
  },
  {
   "cell_type": "code",
   "execution_count": 14,
   "metadata": {},
   "outputs": [
    {
     "name": "stdout",
     "output_type": "stream",
     "text": [
      "LEAVE AND LICENSE AGREEMENT\n",
      "\n",
      "Particulars Amount Paid GRN/Transaction Id\n",
      "Rs. 1590.00/- MHO011704487202122E 15/01/2022\n",
      "Registration Fee Rs. 1000/- MHO011704487202122E 15/01/2022\n",
      "\n",
      "LEAVE AND LICENSE AGREEMENT\n",
      "This agreement is made and executed on 15/01/2022 at mumbai\n",
      "Between,\n",
      "\n",
      "1) Name: Mr.Rathore Mahendra singh , Age : About 45 Years, Occupation : Service, PAN :\n",
      "AIGPR1118Q Residing at: Flat No:B - 204, Building Name: MANORA MLA HOSTEL, Block\n",
      "Sector:NARIMAN POINT, Road: TULSHAMI CHAMBERS, MUMBAI, Mumbai, Maharashtra,\n",
      "400002\n",
      "\n",
      "HEREINAFTER called ‘the Licensor (which expression shall mean and include the Licensor above\n",
      "named and also his/her/their respective heirs, successors, assigns, executors and administrators)\n",
      "\n",
      "AND\n",
      "\n",
      "1) Name: Mr.Nagori Sanjay , Age : About 51 Years, Occupation : Service Residing at: Flat No:D-\n",
      "003, Building Name:ashok avenue chs ltd, Block Sector:off ashok nagar , Road:marol military road,\n",
      "Marol, Mumbai, Maharashtra, 400059\n",
      "\n",
      "HEREINAFTER called ‘the Licensee’ (which expression shall mean and include only Licensee\n",
      "above named).\n",
      "\n",
      "WHEREAS the Licensor is absolutely seized and possessed of and or otherwise well and\n",
      "sufficiently entitled to all that constructed portion being unit described in Schedule | hereunder\n",
      "written and are hereafter for the sake of brevity called or referred to as Licensed Premises and\n",
      "is/are desirous of giving the said premises on Leave and License basis under Section 24 of the\n",
      "Maharashtra Rent Control Act, 1999.\n",
      "\n",
      "AND WHEREAS the Licensee herein is in need of temporary premises for Residential use\n",
      "has/have approached the Licensor with a request to allow the Licensee herein to use and occupy\n",
      "the said premises on Leave and License basis for a period of 36 Months commencing from\n",
      "15/02/2022 and ending on 14/02/2025, on terms and subject to conditions hereafter appearing.\n",
      "\n",
      "AND WHEREAS the Licensor have agreed to allow the Licensee herein to use and occupy the\n",
      "said Licensed premises for his aforesaid Residential purposes only, on Leave and License basis\n",
      "for above mentioned period, on terms and subject to conditions hereafter appearing;\n",
      "\n",
      "NOW THEREFORE IT IS HEREBY AGREED TO, DECLARED AND RECORDED BY AND\n",
      "BETWEEN THE PARTIES HERETO AS FOLLOWS:-\n",
      "\n",
      "1) Period: That the Licensor hereby grants to the Licensee herein a revocable leave and license,\n",
      "to occupy the Licensed Premises, described in Schedule | hereunder written without creating any\n",
      "tenancy rights or any other rights, title and interest in favour of the Licensee for a. pagod of 36\n",
      "Months commencing from 15/02/2022 and ending on 14/02/2025 : .\n",
      "\n",
      "Registered as Document No.711/2022 at the Joint S.R. Kurla 2 on 17/01/2022 Page 1 of 5\n",
      "\n",
      "\n"
     ]
    }
   ],
   "source": [
    "print(output)"
   ]
  },
  {
   "cell_type": "code",
   "execution_count": 22,
   "metadata": {},
   "outputs": [],
   "source": [
    "final_text = \"\"\n",
    "for line in output.split(\"\\n\"):\n",
    "    item = line.strip().replace(\"\\n\", \"\")\n",
    "    if len(item)>1:\n",
    "        final_text = final_text +\" \" + item"
   ]
  },
  {
   "cell_type": "code",
   "execution_count": 17,
   "metadata": {},
   "outputs": [
    {
     "data": {
      "text/plain": [
       "2638"
      ]
     },
     "execution_count": 17,
     "metadata": {},
     "output_type": "execute_result"
    }
   ],
   "source": [
    "len(final_text)"
   ]
  },
  {
   "cell_type": "code",
   "execution_count": 18,
   "metadata": {},
   "outputs": [],
   "source": [
    "def read_docx(file_path):\n",
    "    doc = docx.Document(file_path)\n",
    "    text = \"\"\n",
    "    for paragraph in doc.paragraphs:\n",
    "        text += paragraph.text + \"\\n\"\n",
    "    return text\n",
    "\n",
    "docx_path = 'Agreement AshokAvenue C 001-6.docx'\n",
    "docx_text = read_docx(docx_path)"
   ]
  },
  {
   "cell_type": "code",
   "execution_count": 19,
   "metadata": {},
   "outputs": [],
   "source": [
    "test_text = \"\"\n",
    "for line in docx_text.split(\"\\n\"):\n",
    "    item = line.strip().replace(\"\\n\", \"\")\n",
    "    if len(item)>1:\n",
    "        test_text = test_text +\" \" + item"
   ]
  },
  {
   "cell_type": "code",
   "execution_count": 20,
   "metadata": {},
   "outputs": [
    {
     "name": "stdout",
     "output_type": "stream",
     "text": [
      "Cosine Similarity: 0.9932201608522585\n"
     ]
    }
   ],
   "source": [
    "from sklearn.feature_extraction.text import CountVectorizer\n",
    "from sklearn.metrics.pairwise import cosine_similarity\n",
    "\n",
    "def calculate_similarity(text1, text2):\n",
    "    vectorizer = CountVectorizer()\n",
    "    vectors = vectorizer.fit_transform([text1, text2])\n",
    "    similarity_score = cosine_similarity(vectors)\n",
    "    return similarity_score[0, 1]\n",
    "\n",
    "similarity = calculate_similarity(test_text, final_text)\n",
    "print(f\"Cosine Similarity: {similarity}\")\n"
   ]
  },
  {
   "cell_type": "code",
   "execution_count": 21,
   "metadata": {},
   "outputs": [
    {
     "name": "stdout",
     "output_type": "stream",
     "text": [
      "Spacy Similarity: 0.9951845643038231\n"
     ]
    },
    {
     "name": "stderr",
     "output_type": "stream",
     "text": [
      "C:\\Users\\Shivam\\AppData\\Local\\Temp\\ipykernel_29748\\1336402831.py:5: UserWarning: [W007] The model you're using has no word vectors loaded, so the result of the Doc.similarity method will be based on the tagger, parser and NER, which may not give useful similarity judgements. This may happen if you're using one of the small models, e.g. `en_core_web_sm`, which don't ship with word vectors and only use context-sensitive tensors. You can always add your own word vectors, or use one of the larger models instead if available.\n",
      "  similarity_score = doc1.similarity(doc2)\n"
     ]
    }
   ],
   "source": [
    "def calculate_similarity_with_spacy(text1, text2):\n",
    "    nlp = spacy.load(\"en_core_web_sm\")\n",
    "    doc1 = nlp(text1)\n",
    "    doc2 = nlp(text2)\n",
    "    similarity_score = doc1.similarity(doc2)\n",
    "    return similarity_score\n",
    "\n",
    "    \n",
    "similarity = calculate_similarity_with_spacy(final_text, test_text)\n",
    "print(f\"Spacy Similarity: {similarity}\")"
   ]
  }
 ],
 "metadata": {
  "kernelspec": {
   "display_name": "base",
   "language": "python",
   "name": "python3"
  },
  "language_info": {
   "codemirror_mode": {
    "name": "ipython",
    "version": 3
   },
   "file_extension": ".py",
   "mimetype": "text/x-python",
   "name": "python",
   "nbconvert_exporter": "python",
   "pygments_lexer": "ipython3",
   "version": "3.11.3"
  }
 },
 "nbformat": 4,
 "nbformat_minor": 2
}
