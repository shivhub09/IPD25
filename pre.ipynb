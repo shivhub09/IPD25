{
 "cells": [
  {
   "cell_type": "code",
   "execution_count": 10,
   "metadata": {},
   "outputs": [],
   "source": [
    "import spacy \n",
    "import os\n",
    "from docx import Document "
   ]
  },
  {
   "cell_type": "code",
   "execution_count": 11,
   "metadata": {},
   "outputs": [],
   "source": [
    "nlp = spacy.load(\"en_core_web_sm\")"
   ]
  },
  {
   "cell_type": "code",
   "execution_count": 12,
   "metadata": {},
   "outputs": [],
   "source": [
    "DATA_DIR = \"datasets\""
   ]
  },
  {
   "cell_type": "code",
   "execution_count": 29,
   "metadata": {},
   "outputs": [
    {
     "name": "stdout",
     "output_type": "stream",
     "text": [
      "File contents for : datasets\\100999172-House-Rental-Agreement.pdf.docx\n",
      "File contents for : datasets\\116950326-December-2012-Rental-Agreement.pdf.docx\n",
      "File contents for : datasets\\136441742-Rental-Agreement-Format.pdf.docx\n",
      "File contents for : datasets\\142106117-Rental-Agreement.pdf.docx\n",
      "File contents for : datasets\\170499354-Anand-Nagar-Agreement.pdf.docx\n",
      "File contents for : datasets\\175488575-House-Rental-Agreement.pdf.docx\n",
      "File contents for : datasets\\18325926-Rental-Agreement-1.pdf.docx\n",
      "File contents for : datasets\\195231682-This-RENTAL-AGREEMENT-is-Made-and-Executed-on-24th-Day-of-September.pdf.docx\n",
      "File contents for : datasets\\203615996-Rental-Agreement-Format.pdf.docx\n",
      "File contents for : datasets\\216973836-Rental-Agreement-Sample.pdf.docx\n",
      "File contents for : datasets\\248636461-Rental-Agreement.pdf.docx\n",
      "File contents for : datasets\\249104436-House-Rental-Agreement.pdf.docx\n",
      "File contents for : datasets\\251798216-Rental-Agreement-Format1.pdf.docx\n",
      "File contents for : datasets\\267005869-Rental-Tenant.pdf.docx\n",
      "File contents for : datasets\\269135973-Udaya-Rental-Agreement.pdf.docx\n",
      "File contents for : datasets\\269137702-Rental-Agreement.pdf.docx\n",
      "File contents for : datasets\\269760124-97646-41223-Rental-Agreement.pdf.docx\n",
      "File contents for : datasets\\288024755-Rental-Agreement-1.pdf.docx\n",
      "File contents for : datasets\\294331674-Rental-Agreement.pdf.docx\n",
      "File contents for : datasets\\308044452-Rental-Agreement.pdf.docx\n",
      "File contents for : datasets\\323828497-Rental-Agreement-Micky.pdf.docx\n",
      "File contents for : datasets\\334060786-House-Rental-Agreement.pdf.docx\n",
      "File contents for : datasets\\343492954-Rent-Agreement-3E.pdf.docx\n",
      "File contents for : datasets\\36199312-Rental-Agreement.pdf.docx\n",
      "File contents for : datasets\\392810415-RENT-AGREEMENT.pdf.docx\n",
      "File contents for : datasets\\44737744-Maddireddy-Bhargava-Reddy-Rental-Agreement.pdf.docx\n",
      "File contents for : datasets\\46239065-Standard-Rental-Agreement-Rental-With-Performance-Fee.pdf.docx\n",
      "File contents for : datasets\\47854715-RENTAL-AGREEMENT.pdf.docx\n",
      "File contents for : datasets\\50070534-RENTAL-AGREEMENT (1).pdf.docx\n",
      "File contents for : datasets\\54770958-Rental-Agreement.pdf.docx\n",
      "File contents for : datasets\\54945838-Rental-Agreement.pdf.docx\n",
      "File contents for : datasets\\56736420-Rental-Agreement.pdf.docx\n",
      "File contents for : datasets\\62126501-Rental-Agreement.pdf.docx\n",
      "File contents for : datasets\\62144960-Rental-Agreement.pdf.docx\n",
      "File contents for : datasets\\63057680-Rental-Agreement.pdf.docx\n",
      "File contents for : datasets\\63793679-Rental-Agreement.pdf.docx\n",
      "File contents for : datasets\\6683127-House-Rental-Contract-GERALDINE-GALINATO-v2-Page-1.pdf.docx\n",
      "File contents for : datasets\\6683129-House-Rental-Contract-Geraldine-Galinato-v2.pdf.docx\n",
      "File contents for : datasets\\77112358-Jaggu-Rental-Agreemnt.pdf.docx\n",
      "File contents for : datasets\\81655723-Rental-Agreement.pdf.docx\n",
      "File contents for : datasets\\95421373-Agreement.pdf.docx\n",
      "File contents for : datasets\\95980236-Rental-Agreement.pdf.docx\n",
      "File contents for : datasets\\99699504-Rental-Agreement-English-Model.pdf.docx\n"
     ]
    }
   ],
   "source": [
    "# storing the data in the list \n",
    "content = []\n",
    "\n",
    "for files in os.listdir(DATA_DIR):\n",
    "    doc_file_path = os.path.join(DATA_DIR, files)\n",
    "\n",
    "    doc = Document(doc_file_path)\n",
    "\n",
    "    print(\"File contents for : {}\".format(doc_file_path))\n",
    "    for paragraph in doc.paragraphs:\n",
    "        for word in paragraph.text.split():\n",
    "            content.append(nlp(word))"
   ]
  },
  {
   "cell_type": "code",
   "execution_count": 30,
   "metadata": {},
   "outputs": [
    {
     "data": {
      "text/plain": [
       "35260"
      ]
     },
     "execution_count": 30,
     "metadata": {},
     "output_type": "execute_result"
    }
   ],
   "source": [
    "len(content)"
   ]
  },
  {
   "cell_type": "code",
   "execution_count": 31,
   "metadata": {},
   "outputs": [],
   "source": [
    "content = list(set(content))"
   ]
  },
  {
   "cell_type": "code",
   "execution_count": 32,
   "metadata": {},
   "outputs": [
    {
     "data": {
      "text/plain": [
       "35260"
      ]
     },
     "execution_count": 32,
     "metadata": {},
     "output_type": "execute_result"
    }
   ],
   "source": []
  },
  {
   "cell_type": "code",
   "execution_count": 39,
   "metadata": {},
   "outputs": [
    {
     "ename": "AttributeError",
     "evalue": "'spacy.tokens.doc.Doc' object has no attribute 'lemma'",
     "output_type": "error",
     "traceback": [
      "\u001b[1;31m---------------------------------------------------------------------------\u001b[0m",
      "\u001b[1;31mAttributeError\u001b[0m                            Traceback (most recent call last)",
      "Cell \u001b[1;32mIn[39], line 2\u001b[0m\n\u001b[0;32m      1\u001b[0m \u001b[38;5;28;01mfor\u001b[39;00m token \u001b[38;5;129;01min\u001b[39;00m content:\n\u001b[1;32m----> 2\u001b[0m     \u001b[38;5;28mprint\u001b[39m(\u001b[43mtoken\u001b[49m\u001b[38;5;241;43m.\u001b[39;49m\u001b[43mlemma\u001b[49m)\n",
      "\u001b[1;31mAttributeError\u001b[0m: 'spacy.tokens.doc.Doc' object has no attribute 'lemma'"
     ]
    }
   ],
   "source": []
  },
  {
   "cell_type": "code",
   "execution_count": null,
   "metadata": {},
   "outputs": [],
   "source": []
  }
 ],
 "metadata": {
  "kernelspec": {
   "display_name": "base",
   "language": "python",
   "name": "python3"
  },
  "language_info": {
   "codemirror_mode": {
    "name": "ipython",
    "version": 3
   },
   "file_extension": ".py",
   "mimetype": "text/x-python",
   "name": "python",
   "nbconvert_exporter": "python",
   "pygments_lexer": "ipython3",
   "version": "3.11.3"
  }
 },
 "nbformat": 4,
 "nbformat_minor": 2
}
