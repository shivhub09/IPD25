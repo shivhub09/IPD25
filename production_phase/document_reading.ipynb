{
 "cells": [
  {
   "cell_type": "code",
   "execution_count": 3,
   "metadata": {},
   "outputs": [
    {
     "name": "stdout",
     "output_type": "stream",
     "text": [
      "Collecting PyPDF2\n",
      "  Downloading pypdf2-3.0.1-py3-none-any.whl (232 kB)\n",
      "                                              0.0/232.6 kB ? eta -:--:--\n",
      "     -----                                   30.7/232.6 kB 1.3 MB/s eta 0:00:01\n",
      "     ---------                             61.4/232.6 kB 812.7 kB/s eta 0:00:01\n",
      "     -----------------                    112.6/232.6 kB 930.9 kB/s eta 0:00:01\n",
      "     -------------------                  122.9/232.6 kB 798.9 kB/s eta 0:00:01\n",
      "     --------------------------           174.1/232.6 kB 803.1 kB/s eta 0:00:01\n",
      "     ------------------------------       194.6/232.6 kB 784.3 kB/s eta 0:00:01\n",
      "     ------------------------------------ 232.6/232.6 kB 788.4 kB/s eta 0:00:00\n",
      "Installing collected packages: PyPDF2\n",
      "Successfully installed PyPDF2-3.0.1\n"
     ]
    }
   ],
   "source": [
    "!pip install PyPDF2"
   ]
  },
  {
   "cell_type": "code",
   "execution_count": 8,
   "metadata": {},
   "outputs": [
    {
     "name": "stdout",
     "output_type": "stream",
     "text": [
      "0\n"
     ]
    }
   ],
   "source": [
    "from PyPDF2 import PdfReader\n",
    "\n",
    "# Replace 'your_file.pdf' with the actual filename\n",
    "with open('60009210051_CL_Assignment1.pdf', 'rb') as pdf_file:\n",
    "  reader = PdfReader(pdf_file)\n",
    "  page = reader.pages[1]  \n",
    "  page_content = page.extract_text()\n",
    "  print(page_content)"
   ]
  },
  {
   "cell_type": "code",
   "execution_count": null,
   "metadata": {},
   "outputs": [],
   "source": []
  }
 ],
 "metadata": {
  "kernelspec": {
   "display_name": "base",
   "language": "python",
   "name": "python3"
  },
  "language_info": {
   "codemirror_mode": {
    "name": "ipython",
    "version": 3
   },
   "file_extension": ".py",
   "mimetype": "text/x-python",
   "name": "python",
   "nbconvert_exporter": "python",
   "pygments_lexer": "ipython3",
   "version": "3.11.3"
  }
 },
 "nbformat": 4,
 "nbformat_minor": 2
}
