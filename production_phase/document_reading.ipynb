{
 "cells": [
  {
   "cell_type": "code",
   "execution_count": 3,
   "metadata": {},
   "outputs": [
    {
     "name": "stdout",
     "output_type": "stream",
     "text": [
      "Collecting PyPDF2\n",
      "  Downloading pypdf2-3.0.1-py3-none-any.whl (232 kB)\n",
      "                                              0.0/232.6 kB ? eta -:--:--\n",
      "     -----                                   30.7/232.6 kB 1.3 MB/s eta 0:00:01\n",
      "     ---------                             61.4/232.6 kB 812.7 kB/s eta 0:00:01\n",
      "     -----------------                    112.6/232.6 kB 930.9 kB/s eta 0:00:01\n",
      "     -------------------                  122.9/232.6 kB 798.9 kB/s eta 0:00:01\n",
      "     --------------------------           174.1/232.6 kB 803.1 kB/s eta 0:00:01\n",
      "     ------------------------------       194.6/232.6 kB 784.3 kB/s eta 0:00:01\n",
      "     ------------------------------------ 232.6/232.6 kB 788.4 kB/s eta 0:00:00\n",
      "Installing collected packages: PyPDF2\n",
      "Successfully installed PyPDF2-3.0.1\n"
     ]
    }
   ],
   "source": [
    "!pip install PyPDF2"
   ]
  },
  {
   "cell_type": "code",
   "execution_count": 10,
   "metadata": {},
   "outputs": [
    {
     "name": "stdout",
     "output_type": "stream",
     "text": [
      "Total Pages: 17\n",
      "Second Page Content:\n",
      " \n",
      "2. Syntactic Analysis  \n",
      "● Syntactic analysis involves the parsing of sentences to identify the grammatical structure \n",
      "and relationships between words.   \n",
      "● Checking the grammatical syntax of a sentence to understand its meaning.  \n",
      "● It aims to determine how words combine to form phrases and sentences according to \n",
      "the rules of a language's grammar.  \n",
      "Ex: “John ate the apple” is correct  \n",
      "      “Ate the john apple” is syntactically incorrect  \n",
      " \n",
      "3. Semantic Analysis  \n",
      "● Semantic analysis aims to derive the meaning of text by considering the context, \n",
      "relationships between words, and overall semantics.  \n",
      "● It goes beyond syntactic analysis (which focuses on grammar and sentence structure) to \n",
      "understand the deeper meaning conveyed by language.  \n",
      "“She drank some milk” is both syntactically and semantically correct  \n",
      "“She drank some books” is syntactically correct but semantically incorrect  \n",
      " \n",
      "4. Discourse Analysis  \n",
      "● Discourse analysis is the study of how language is used in communication beyond the \n",
      "level of individual sentences.  \n",
      "● It examines the structure, organization, and flow of text to understand how meaning is \n",
      "constructed and conveyed across larger units of discourse.  \n",
      "● Resolving the references in context of the sample text  \n",
      "a. “Monkeys eats banana when they wake up”  \n",
      "Who are they in this sentence ? Monkeys  \n",
      "b. “Monkeys eat bananas when they are ripe”  \n",
      " Who are they in this sentence ? Bananas  \n",
      " \n",
      "5. Pragmatic Analysis  \n",
      "● Pragmatic analysis in NLP involves interpreting language beyond its literal meaning and \n",
      "considering the pragmatic aspects of communication, such as speaker intentions, \n",
      "implied meaning, and contextual factors.  \n",
      "● It aims to understand how language is used in real -world situations to convey meaning \n",
      "effectively.  \n",
      "“Close the door !” - Order  \n",
      "“Can you please close the door ?” - Request  \n",
      " \n",
      " \n",
      "Q2. “Natural Language is ambiguous”. Justify with the help of suitable examples.  \n",
      "● Natural language is indeed ambiguous, and this ambiguity arises from various sources \n",
      "such as lexical, syntactic, semantic, discourse, and pragmatic ambiguities.  \n",
      "● An input is said to be ambiguous if there are multiple alternative linguistics that can be \n",
      "built for it. A word or sentence may have multiple meanings.  \n"
     ]
    }
   ],
   "source": [
    "from PyPDF2 import PdfReader\n",
    "\n",
    "with open('60009210051_CL_Assignment1.pdf', 'rb') as pdf_file:\n",
    "  reader = PdfReader(pdf_file)\n",
    "  \n",
    "  # Get total number of pages\n",
    "  num_pages = len(reader.pages)\n",
    "  \n",
    "  # Access and print content of the second page\n",
    "  page = reader.pages[1]\n",
    "  page_content = page.extract_text()\n",
    "  \n",
    "  print(f\"Total Pages: {num_pages}\")\n",
    "  print(\"Second Page Content:\")\n",
    "  print(page_content)\n"
   ]
  },
  {
   "cell_type": "code",
   "execution_count": null,
   "metadata": {},
   "outputs": [],
   "source": []
  }
 ],
 "metadata": {
  "kernelspec": {
   "display_name": "base",
   "language": "python",
   "name": "python3"
  },
  "language_info": {
   "codemirror_mode": {
    "name": "ipython",
    "version": 3
   },
   "file_extension": ".py",
   "mimetype": "text/x-python",
   "name": "python",
   "nbconvert_exporter": "python",
   "pygments_lexer": "ipython3",
   "version": "3.11.3"
  }
 },
 "nbformat": 4,
 "nbformat_minor": 2
}
