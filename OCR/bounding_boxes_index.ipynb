{
 "cells": [
  {
   "cell_type": "code",
   "execution_count": 42,
   "metadata": {},
   "outputs": [],
   "source": [
    "import pytesseract\n",
    "import cv2"
   ]
  },
  {
   "cell_type": "code",
   "execution_count": 43,
   "metadata": {},
   "outputs": [],
   "source": [
    "image = cv2.imread(\"index_02.jpg\")"
   ]
  },
  {
   "cell_type": "code",
   "execution_count": 44,
   "metadata": {},
   "outputs": [],
   "source": [
    "gray = cv2.cvtColor(image , cv2.COLOR_BGR2GRAY)"
   ]
  },
  {
   "cell_type": "code",
   "execution_count": 45,
   "metadata": {},
   "outputs": [
    {
     "data": {
      "text/plain": [
       "True"
      ]
     },
     "execution_count": 45,
     "metadata": {},
     "output_type": "execute_result"
    }
   ],
   "source": [
    "cv2.imwrite(\"temp/gray.jpg\", gray)"
   ]
  },
  {
   "cell_type": "code",
   "execution_count": 46,
   "metadata": {},
   "outputs": [],
   "source": [
    "blur = cv2.GaussianBlur(gray , (7,7), 0)"
   ]
  },
  {
   "cell_type": "code",
   "execution_count": 47,
   "metadata": {},
   "outputs": [
    {
     "data": {
      "text/plain": [
       "True"
      ]
     },
     "execution_count": 47,
     "metadata": {},
     "output_type": "execute_result"
    }
   ],
   "source": [
    "cv2.imwrite('temp/blur.jpg', blur)"
   ]
  },
  {
   "cell_type": "code",
   "execution_count": 48,
   "metadata": {},
   "outputs": [],
   "source": [
    "thresh = cv2.threshold(blur , 0, 255, cv2.THRESH_BINARY_INV + cv2.THRESH_OTSU)[1]"
   ]
  },
  {
   "cell_type": "code",
   "execution_count": 49,
   "metadata": {},
   "outputs": [
    {
     "data": {
      "text/plain": [
       "True"
      ]
     },
     "execution_count": 49,
     "metadata": {},
     "output_type": "execute_result"
    }
   ],
   "source": [
    "cv2.imwrite(\"temp/thresh.png\", thresh)"
   ]
  },
  {
   "cell_type": "code",
   "execution_count": 50,
   "metadata": {},
   "outputs": [],
   "source": [
    "kernel = cv2.getStructuringElement(cv2.MORPH_RECT, (3,13))"
   ]
  },
  {
   "cell_type": "code",
   "execution_count": 51,
   "metadata": {},
   "outputs": [
    {
     "data": {
      "text/plain": [
       "True"
      ]
     },
     "execution_count": 51,
     "metadata": {},
     "output_type": "execute_result"
    }
   ],
   "source": [
    "cv2.imwrite(\"temp/kernel.jpg\", kernel)"
   ]
  },
  {
   "cell_type": "code",
   "execution_count": 52,
   "metadata": {},
   "outputs": [],
   "source": [
    "dilate = cv2.dilate(thresh, kernel , iterations=1)"
   ]
  },
  {
   "cell_type": "code",
   "execution_count": 53,
   "metadata": {},
   "outputs": [
    {
     "data": {
      "text/plain": [
       "True"
      ]
     },
     "execution_count": 53,
     "metadata": {},
     "output_type": "execute_result"
    }
   ],
   "source": [
    "cv2.imwrite(\"temp/dilate.jpg\", dilate)"
   ]
  },
  {
   "cell_type": "code",
   "execution_count": 54,
   "metadata": {},
   "outputs": [],
   "source": [
    "cnts = cv2.findContours(dilate, cv2.RETR_EXTERNAL , cv2.CHAIN_APPROX_SIMPLE)"
   ]
  },
  {
   "cell_type": "code",
   "execution_count": 55,
   "metadata": {},
   "outputs": [],
   "source": [
    "cnts = cnts[0] if len(cnts) == 2 else cnts[1]"
   ]
  },
  {
   "cell_type": "code",
   "execution_count": 56,
   "metadata": {},
   "outputs": [],
   "source": [
    "cnts = sorted(cnts, key=lambda x: cv2.boundingRect(x)[0])"
   ]
  },
  {
   "cell_type": "code",
   "execution_count": 57,
   "metadata": {},
   "outputs": [
    {
     "data": {
      "text/plain": [
       "True"
      ]
     },
     "execution_count": 57,
     "metadata": {},
     "output_type": "execute_result"
    }
   ],
   "source": [
    "results = []\n",
    "\n",
    "for i,c in enumerate(cnts):\n",
    "    x,y,w,h = cv2.boundingRect(c)\n",
    "    if h>200 and w>20:\n",
    "        roi = image[y:y+h, x:x+w]\n",
    "        cv2.imwrite(f\"temp/index_roi_{i}.jpg\", roi)\n",
    "        cv2.rectangle(image, (x,y), (x+w , y+h), (36 , 255, 12), 2)\n",
    "        ocr_result = pytesseract.image_to_string(roi)\n",
    "        ocr_result = ocr_result.split(\"\\n\")\n",
    "        for item in ocr_result:\n",
    "            results.append(item)\n",
    "cv2.imwrite(\"temp/b_box2.jpg\", image)"
   ]
  },
  {
   "cell_type": "code",
   "execution_count": 58,
   "metadata": {},
   "outputs": [
    {
     "data": {
      "text/plain": [
       "['A. v. E.',\n",
       " '',\n",
       " 'Aaron 38, 20. 123, 18. 168, 6. 203, 38.',\n",
       " 'Abacuc propheta 36,5. 319,29. 373, 23.',\n",
       " 'Abagarus rex Edessenorum 382, 13.',\n",
       " 'Abdenago 585, 3.',\n",
       " 'Abel 26, 11.',\n",
       " 'Abigail 606, 6.',\n",
       " 'Abraham 26,18, 124,18. 133, 23.',\n",
       " '264. 302, 13. 303, 13. 320, 40.',\n",
       " '496, 22.',\n",
       " 'Absalon 102, 5.',\n",
       " 'Acgfredi v. Ecgtridus.',\n",
       " 'Achab rex 504, 1.',\n",
       " 'Achaz rex 504, 1.',\n",
       " 'Achiel 606, 19.',\n",
       " 'Achilon 496, 26.',\n",
       " 'Adal-, Adel-, Adhel-, Aedel-, Aed',\n",
       " '',\n",
       " 'Aedil-, Aedil- Edel-, Edil-, Athal-,',\n",
       " 'Athel-, Athil-, Aethel-, Aethil-,',\n",
       " 'Ethel-.',\n",
       " 'Aedelbaldusabb.S. Petri Wiremuthen-',\n",
       " 'sis et S. Pauli Girwensis 110, 28.',\n",
       " 'Aedilberctus, Aedilberthus ep. Ha-',\n",
       " 'gulstadensis, antea ep. Candidae',\n",
       " 'casae sive Witernensis 27,43. 72,16.',\n",
       " 'Adalbertus, Aedilberctus sive Magus,',\n",
       " 'discipulus et capellanus Arnonis',\n",
       " 'archiep. Salisburg., postea_abb.',\n",
       " 'Ferrariensis 254, 1. 320, 41. 322, 19.',\n",
       " '416. 418, 14. 422, 10.',\n",
       " 'Adalpertabb.[Tegernseensis ?]497,23.',\n",
       " 'Adalbertus presb. monasterii S. Mar-',\n",
       " 'tini Turonensis 399, 3.',\n",
       " 'Aedilburga, Edilburga, cognom. Euge-',\n",
       " 'nia, abbatissa Flaedanbyrgensis,',\n",
       " 'filia Offae regis Merciorum 78, 1.',\n",
       " '148, 32. 149, 33 [2]7 458.',\n",
       " 'Aethelfleda uxor Aethilredi regis',\n",
       " 'Northanhumbrorum, filia Oftae',\n",
       " 'regis Merciorum 149, 14. 150, 4.',\n",
       " 'Adalgarius ep. [Trecensis?] 510, 10.',\n",
       " 'Adelgisa filia Arichis ducis Bene-',\n",
       " 'ventani 506, 27.',\n",
       " 'Adalgisus fil. Desiderii regis Lango-',\n",
       " 'bardorum 503, 45.',\n",
       " '',\n",
       " 'Epistozae IV.',\n",
       " '',\n",
       " '',\n",
       " 'Aethelhardus, Aethilhardus, Athel-',\n",
       " 'hardus, Athilhardus, Aedelhardus,',\n",
       " 'Aedelhardus, Aedilhardus, Aedil-',\n",
       " 'hardus, Ethelardus, Edelardus',\n",
       " 'archiep. Cantuariensis Dorovernen-',\n",
       " '',\n",
       " 'sis eselaaing metropolitanus 45, 9.',\n",
       " '',\n",
       " '49,9. 128,2. 145, 31, 147,5. 188. 189.',\n",
       " '',\n",
       " '192, 24. 193, 5[?]. 374376, 29. 377, 4.',\n",
       " '',\n",
       " '412. 414,1 (2) 448. 449 [2]. 450 [2],',\n",
       " '',\n",
       " '451, 8 [2]. 479. 480. 614, 10. 21. 36.',\n",
       " '',\n",
       " 'Adalhardus, cognom. Antonius, abb.',\n",
       " '',\n",
       " 'Corbeiae veteris, fil. Bernhardi',\n",
       " '',\n",
       " 'rae Caroli Magni 34, 25. 290.',\n",
       " '1. 299. 300. 364. 365. 381. 382.',\n",
       " '',\n",
       " '509. 566,16; frater: Bernarius;',\n",
       " '',\n",
       " 'fratres 381,25; soror: Gundrada.',\n",
       " '',\n",
       " 'Adalmondus, Aethelmodus ep. Scire-',\n",
       " '',\n",
       " 'burnensis 29, 9.',\n",
       " '',\n",
       " 'Adelperga uxor Arichis ducis Bene-',\n",
       " '',\n",
       " 'ventani, filia Desiderii regis Lango-',\n",
       " '',\n",
       " 'bardorum 506, 5; liberi: Romual-',\n",
       " 'dus, Grimoaldus, Adelgisa.',\n",
       " '',\n",
       " 'Adalpert v, Adalbertus.',\n",
       " '',\n",
       " 'Aedelredus, Aedilredus, Aethelredus,',\n",
       " '',\n",
       " 'Aethilredus, Hedilredus rex Nor-',\n",
       " '',\n",
       " 'thanhumbrorum, fil. Aedelwaldi',\n",
       " '',\n",
       " 'Moll regis 383,15. 35,8. 41, 19.',\n",
       " '',\n",
       " '49,16. T1, 20, 146,2. 147,10. 150, 6.',\n",
       " '',\n",
       " '151, 35. 171,17. 377,31; mater:',\n",
       " '',\n",
       " 'Aedilthyda; uxor: Aethelfleda;',\n",
       " '',\n",
       " 'famulus: Torchmundus.',\n",
       " '',\n",
       " 'Adhelricus diaconus, discipulus et!',\n",
       " '',\n",
       " 'capellanus Arnonis archiep. Salis-',\n",
       " '',\n",
       " 'burg., postea abbas Ferrariensis,',\n",
       " '',\n",
       " 'archiepiscopus Senonensis, 418, 14.',\n",
       " '',\n",
       " '422, 10.',\n",
       " '',\n",
       " 'Aedilthyda, Edilthruda uxor Aethel-',\n",
       " '',\n",
       " 'waldi Moll regis Northanhumbro-',\n",
       " '',\n",
       " 'rum, postea abbatissa 120,12. 151,17.',\n",
       " '',\n",
       " '152, 31 (?]; filius: Aethelredus rex',\n",
       " '',\n",
       " 'Northanhumbrorum.',\n",
       " '',\n",
       " 'Edildryda uxor Ecgfridi regis Nor-',\n",
       " 'thanhumbrorum, postea abbatissa',\n",
       " '(+ 679) 417,15.',\n",
       " '',\n",
       " 'Aedelwaldus, Aethelwoldus Moll rex',\n",
       " 'Northanhumbrorum 33,16; uxor:',\n",
       " 'Aedilthyda; filius: Aethelredus,',\n",
       " '',\n",
       " 'Adalwinus ep. Reginensis 421, 24.',\n",
       " '422, 21. 424,3.',\n",
       " '',\n",
       " '',\n",
       " 'Aethiluuinus episcopus 28, 2.',\n",
       " '',\n",
       " 'Adam 124. 201,1. 226,7. 264, 21,',\n",
       " '',\n",
       " '879, 29. 466, 36-—468, v5. 591, 34.',\n",
       " '',\n",
       " 'Adam abb. monasterii Gemeticensis',\n",
       " '',\n",
       " '579.',\n",
       " '',\n",
       " 'Adaula abbatissa Anglica 112, 4.',\n",
       " '',\n",
       " 'Adoredus, Hathoredus ep. Hwiccio-',\n",
       " 'rum [Wigorniensis] 29, 10.',\n",
       " '',\n",
       " 'Adrianus v. Hadrianus.',\n",
       " '',\n",
       " 'Adriaticum mare 324, 41.',\n",
       " '',\n",
       " 'Aedel-, Aedil-, v. Adal-.',\n",
       " '',\n",
       " 'Aegesippus [i. e. Hegesippus] 501, 11',\n",
       " '',\n",
       " 'Aegil v. Eigil.',\n",
       " '',\n",
       " 'Aegyptus, Egyptus 123,19. 554, 17;',\n",
       " 'Aegyptii, Aegyptiaci 231. 232, 17.',\n",
       " '467, 36. 567,6. 571,33; Egyptiacae',\n",
       " 'divitiae 470, 22; Aegyptiacae tene-',\n",
       " 'brae 232, 3; Acgypit rex: Pharao;',\n",
       " 'Aegyptiacascola, Aegyptiaci pueri',\n",
       " 'v. Carolus I imperator.',\n",
       " '',\n",
       " 'Aeine, Aesne, Esne ep. Herefordensis',\n",
       " '',\n",
       " ', 6.',\n",
       " 'Aelberhtus archiep. Eboracensis, ma-',\n",
       " '‘ister Alevini abbatis (162, 24]. 167,8.',\n",
       " '171,19]. [177, 5]. [224,20]. [239, 28].',\n",
       " '332, 28]. [377,32]. (378, 31]. [429,27',\n",
       " '',\n",
       " 'Aelfvaldus, Aelfwaldus rex Nor-',\n",
       " 'thanhymbrorum, [Transhymbranae',\n",
       " 'gentis] 20, 27. 28, 11. 43,8. 377, 31.',\n",
       " '',\n",
       " 'Aelim v. Alim.',\n",
       " '',\n",
       " 'Aeneades 39, 21; v. Virgilius.',\n",
       " '',\n",
       " 'Aesculapius, Scolapius 397, 25.',\n",
       " '',\n",
       " 'Aesne v. Aeine.',\n",
       " '',\n",
       " 'Aethel-, Aethil- v. Adal-.',\n",
       " '',\n",
       " 'Aethiopia 478, 5,',\n",
       " '',\n",
       " 'Africa 124, 16; Afer: Melchiades',\n",
       " 'papa; Africanum concilium 526,33.',\n",
       " '',\n",
       " 'Africanus, se. Scipio Afr. 575, 36.',\n",
       " '',\n",
       " 'Agar 584, 3s.',\n",
       " '',\n",
       " 'Agareni, Aggareni 32, 19. 601, 21;',\n",
       " 'v, Saraceni.',\n",
       " '',\n",
       " 'Agathensis synodus 396,',\n",
       " '',\n",
       " 'Aginus ep. Constantiensis 117, 32.',\n",
       " '',\n",
       " '129, 19.',\n",
       " '',\n",
       " '']"
      ]
     },
     "execution_count": 58,
     "metadata": {},
     "output_type": "execute_result"
    }
   ],
   "source": [
    "results"
   ]
  },
  {
   "cell_type": "code",
   "execution_count": 59,
   "metadata": {},
   "outputs": [],
   "source": [
    "entities  = []\n",
    "for item in results:\n",
    "    item = item.strip().replace(\"\\n\", \"\")\n",
    "    item = item.split(\" \")[0]\n",
    "    if len(item) > 2:\n",
    "        if item[0] == \"A\" and \"-\" not in item:\n",
    "                item = item.split(\".\")[0].replace(\",\",\"\").replace(\";\",\"\")\n",
    "                entities.append(item)\n"
   ]
  },
  {
   "cell_type": "code",
   "execution_count": 60,
   "metadata": {},
   "outputs": [
    {
     "data": {
      "text/plain": [
       "63"
      ]
     },
     "execution_count": 60,
     "metadata": {},
     "output_type": "execute_result"
    }
   ],
   "source": [
    "len(entities)"
   ]
  },
  {
   "cell_type": "code",
   "execution_count": 61,
   "metadata": {},
   "outputs": [],
   "source": [
    "entities = list(set(entities))"
   ]
  },
  {
   "cell_type": "code",
   "execution_count": 62,
   "metadata": {},
   "outputs": [
    {
     "data": {
      "text/plain": [
       "59"
      ]
     },
     "execution_count": 62,
     "metadata": {},
     "output_type": "execute_result"
    }
   ],
   "source": [
    "len(entities)"
   ]
  },
  {
   "cell_type": "code",
   "execution_count": 63,
   "metadata": {},
   "outputs": [],
   "source": [
    "entities.sort()"
   ]
  },
  {
   "cell_type": "code",
   "execution_count": 64,
   "metadata": {},
   "outputs": [
    {
     "name": "stdout",
     "output_type": "stream",
     "text": [
      "['Aaron', 'Abacuc', 'Abagarus', 'Abdenago', 'Abel', 'Abigail', 'Abraham', 'Absalon', 'Acgfredi', 'Achab', 'Achaz', 'Achiel', 'Achilon', 'Adalbertus', 'Adalgarius', 'Adalgisus', 'Adalhardus', 'Adalmondus', 'Adalpert', 'Adalpertabb', 'Adalwinus', 'Adam', 'Adaula', 'Adelgisa', 'Adelperga', 'Adhelricus', 'Adoredus', 'Adrianus', 'Adriaticum', 'Aedelbaldusabb', 'Aedelhardus', 'Aedelredus', 'Aedelwaldus', 'Aedilberctus', 'Aedilburga', 'Aedilthyda', 'Aegesippus', 'Aegil', 'Aegyptiacascola', 'Aegyptii', 'Aegyptus', 'Aeine', 'Aelberhtus', 'Aelfvaldus', 'Aelim', 'Aeneades', 'Aesculapius', 'Aesne', 'Aethelfleda', 'Aethelhardus', 'Aethilredus', 'Aethiluuinus', 'Aethiopia', 'Africa', 'Africanus', 'Agar', 'Agareni', 'Agathensis', 'Aginus']\n"
     ]
    }
   ],
   "source": [
    "print(entities)"
   ]
  }
 ],
 "metadata": {
  "kernelspec": {
   "display_name": "base",
   "language": "python",
   "name": "python3"
  },
  "language_info": {
   "codemirror_mode": {
    "name": "ipython",
    "version": 3
   },
   "file_extension": ".py",
   "mimetype": "text/x-python",
   "name": "python",
   "nbconvert_exporter": "python",
   "pygments_lexer": "ipython3",
   "version": "3.11.3"
  }
 },
 "nbformat": 4,
 "nbformat_minor": 2
}
